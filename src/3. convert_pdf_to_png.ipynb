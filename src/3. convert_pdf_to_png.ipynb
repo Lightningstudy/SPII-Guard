{
 "cells": [
  {
   "cell_type": "code",
   "execution_count": 5,
   "metadata": {},
   "outputs": [],
   "source": [
    "from pdf2image import convert_from_path\n",
    "import os\n",
    "\n",
    "#pdf_file = r'C:\\Users\\E\\Desktop\\Research\\Receipt Pictures\\Kaggle\\my receipts (pdf scans)\\2021\\us\\shakeshack-20211211.pdf'\n",
    "pdf_file = \"shakeshack-20211211.pdf\"\n",
    "pdf_convert = convert_from_path(pdf_file, 500, poppler_path = r'C:\\Users\\E\\Desktop\\Research\\Programming\\Git\\Release-23.08.0-0\\poppler-23.08.0\\Library\\bin')\n",
    "\n",
    "\n",
    "# get filename of original pdf\n",
    "original_filename = os.path.basename(pdf_file).split('/')[-1]\n",
    "# remove file extension\n",
    "jpg_filename = os.path.splitext(original_filename)[0]\n",
    "\n",
    "for i in range(len(pdf_convert)):\n",
    "        pdf_convert[i].save(jpg_filename + str(i) +'.jpg', 'JPEG')\n",
    "\n",
    "#save PDF file as .png\n",
    "# for i, image in enumerate(pages):\n",
    "#     fname = 'image'+str(i)+'.png'\n",
    "#     image.save(fname, \"PNG\")"
   ]
  },
  {
   "cell_type": "code",
   "execution_count": 2,
   "metadata": {},
   "outputs": [
    {
     "name": "stdout",
     "output_type": "stream",
     "text": [
      "cvs-20211211_009\n"
     ]
    }
   ],
   "source": [
    "\n",
    "\n",
    "\n",
    "print(jpg_filename)"
   ]
  }
 ],
 "metadata": {
  "kernelspec": {
   "display_name": "Python 3",
   "language": "python",
   "name": "python3"
  },
  "language_info": {
   "codemirror_mode": {
    "name": "ipython",
    "version": 3
   },
   "file_extension": ".py",
   "mimetype": "text/x-python",
   "name": "python",
   "nbconvert_exporter": "python",
   "pygments_lexer": "ipython3",
   "version": "3.11.3"
  },
  "orig_nbformat": 4
 },
 "nbformat": 4,
 "nbformat_minor": 2
}
